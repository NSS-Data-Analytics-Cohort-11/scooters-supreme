{
 "cells": [
  {
   "cell_type": "code",
   "execution_count": null,
   "id": "88723c25-20e8-474c-ae1a-9db68ec5c7b5",
   "metadata": {},
   "outputs": [],
   "source": []
  }
 ],
 "metadata": {
  "kernelspec": {
   "display_name": "",
   "name": ""
  },
  "language_info": {
   "name": ""
  }
 },
 "nbformat": 4,
 "nbformat_minor": 5
}
